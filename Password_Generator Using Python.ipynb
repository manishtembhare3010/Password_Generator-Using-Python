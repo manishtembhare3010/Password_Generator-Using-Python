{
 "cells": [
  {
   "cell_type": "code",
   "execution_count": 2,
   "id": "27a32c10",
   "metadata": {},
   "outputs": [
    {
     "name": "stdout",
     "output_type": "stream",
     "text": [
      "Enter the Length of Password That you Want 10\n",
      "Your generated password is : a\\}Vqt?c`@\n"
     ]
    }
   ],
   "source": [
    "# random module for choosing the random entity from the all words\n",
    "import random\n",
    "#String module to use all alphabest,digits,symbols\n",
    "import string\n",
    "\n",
    "def generate_password(length):\n",
    "    \"\"\"Generates a random password of the desired length\"\"\"\n",
    "    characters = string.ascii_letters + string.digits + string.punctuation\n",
    "\n",
    "    # Generate random password using choices() for better randomness\n",
    "    password = ''.join(random.choices(characters,k=length))\n",
    "    return password\n",
    "\n",
    "# get length from user input to generate password\n",
    "length = int(input(\"Enter the Length of Password That you Want \"))\n",
    "\n",
    "# Generate and print the password\n",
    "password = generate_password(length)\n",
    "print(\"Your generated password is :\", password)\n"
   ]
  },
  {
   "cell_type": "code",
   "execution_count": null,
   "id": "28892505",
   "metadata": {},
   "outputs": [],
   "source": []
  }
 ],
 "metadata": {
  "kernelspec": {
   "display_name": "Python 3 (ipykernel)",
   "language": "python",
   "name": "python3"
  },
  "language_info": {
   "codemirror_mode": {
    "name": "ipython",
    "version": 3
   },
   "file_extension": ".py",
   "mimetype": "text/x-python",
   "name": "python",
   "nbconvert_exporter": "python",
   "pygments_lexer": "ipython3",
   "version": "3.10.9"
  }
 },
 "nbformat": 4,
 "nbformat_minor": 5
}
